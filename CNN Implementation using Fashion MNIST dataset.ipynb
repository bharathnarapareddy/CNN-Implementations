{
 "cells": [
  {
   "cell_type": "code",
   "execution_count": 32,
   "id": "extraordinary-charger",
   "metadata": {},
   "outputs": [],
   "source": [
    "import matplotlib.pyplot as plt\n",
    "from tensorflow.keras.layers import Input, Conv2D, Dense, Flatten, Dropout\n",
    "from tensorflow.keras.models import Model"
   ]
  },
  {
   "cell_type": "code",
   "execution_count": 5,
   "id": "clear-blake",
   "metadata": {},
   "outputs": [],
   "source": [
    "import tensorflow as tf\n",
    "fmnist=tf.keras.datasets.fashion_mnist"
   ]
  },
  {
   "cell_type": "code",
   "execution_count": 25,
   "id": "needed-april",
   "metadata": {},
   "outputs": [],
   "source": [
    "(x_train, y_train),(x_test, y_test) = fmnist.load_data()"
   ]
  },
  {
   "cell_type": "code",
   "execution_count": 22,
   "id": "blind-mambo",
   "metadata": {},
   "outputs": [
    {
     "data": {
      "text/plain": [
       "(60000, 28, 28)"
      ]
     },
     "execution_count": 22,
     "metadata": {},
     "output_type": "execute_result"
    }
   ],
   "source": [
    "x_train.shape"
   ]
  },
  {
   "cell_type": "code",
   "execution_count": 10,
   "id": "municipal-proceeding",
   "metadata": {},
   "outputs": [
    {
     "data": {
      "text/plain": [
       "(60000,)"
      ]
     },
     "execution_count": 10,
     "metadata": {},
     "output_type": "execute_result"
    }
   ],
   "source": [
    "y_train.shape"
   ]
  },
  {
   "cell_type": "code",
   "execution_count": 15,
   "id": "intense-pixel",
   "metadata": {},
   "outputs": [
    {
     "data": {
      "text/plain": [
       "array([9, 0, 3, 2, 7, 5, 1, 6, 4, 8], dtype=uint8)"
      ]
     },
     "execution_count": 15,
     "metadata": {},
     "output_type": "execute_result"
    }
   ],
   "source": [
    "import pandas as pd\n",
    "pd.Series(y_train).unique()"
   ]
  },
  {
   "cell_type": "code",
   "execution_count": 16,
   "id": "italian-letters",
   "metadata": {},
   "outputs": [
    {
     "ename": "TypeError",
     "evalue": "'tuple' object cannot be interpreted as an integer",
     "output_type": "error",
     "traceback": [
      "\u001b[1;31m---------------------------------------------------------------------------\u001b[0m",
      "\u001b[1;31mTypeError\u001b[0m                                 Traceback (most recent call last)",
      "\u001b[1;32m<ipython-input-16-c9b8a0165545>\u001b[0m in \u001b[0;36m<module>\u001b[1;34m\u001b[0m\n\u001b[1;32m----> 1\u001b[1;33m \u001b[0mx_train\u001b[0m\u001b[1;33m.\u001b[0m\u001b[0mreshape\u001b[0m\u001b[1;33m(\u001b[0m\u001b[0mx_train\u001b[0m\u001b[1;33m.\u001b[0m\u001b[0mshape\u001b[0m\u001b[1;33m,\u001b[0m\u001b[1;33m-\u001b[0m\u001b[1;36m1\u001b[0m\u001b[1;33m)\u001b[0m\u001b[1;33m\u001b[0m\u001b[1;33m\u001b[0m\u001b[0m\n\u001b[0m",
      "\u001b[1;31mTypeError\u001b[0m: 'tuple' object cannot be interpreted as an integer"
     ]
    }
   ],
   "source": [
    "x_train.reshape(x_train.shape,-1)"
   ]
  },
  {
   "cell_type": "code",
   "execution_count": 26,
   "id": "liked-cisco",
   "metadata": {},
   "outputs": [
    {
     "name": "stdout",
     "output_type": "stream",
     "text": [
      "(60000, 28, 28, 1)\n"
     ]
    }
   ],
   "source": [
    "import numpy as np\n",
    "x_train=np.expand_dims(x_train,-1)\n",
    "x_test=np.expand_dims(x_test,-1)\n",
    "print(x_train.shape)"
   ]
  },
  {
   "cell_type": "code",
   "execution_count": 31,
   "id": "equal-soviet",
   "metadata": {},
   "outputs": [
    {
     "name": "stdout",
     "output_type": "stream",
     "text": [
      "number of classes:  10\n"
     ]
    }
   ],
   "source": [
    "#Number of classes\n",
    "k=len(set(y_train))\n",
    "print('number of classes: ',k)"
   ]
  },
  {
   "cell_type": "code",
   "execution_count": 35,
   "id": "developmental-postcard",
   "metadata": {},
   "outputs": [],
   "source": [
    "#Building the model using Functional API\n",
    "i=Input(shape=x_train[0].shape)\n",
    "x=Conv2D(32,(3,3),strides=2,activation='relu')(i)\n",
    "x=Conv2D(64,(3,3),strides=2,activation='relu')(x)\n",
    "x=Conv2D(128,(3,3),strides=2,activation='relu')(x)\n",
    "x=Flatten()(x)\n",
    "x=Dropout(0.2)(x)\n",
    "x=Dense(512,activation='relu')(x)\n",
    "x=Dropout(0.2)(x)\n",
    "x=Dense(k,activation='softmax')(x)\n",
    "\n",
    "model=Model(i,x)"
   ]
  },
  {
   "cell_type": "code",
   "execution_count": 37,
   "id": "unknown-ontario",
   "metadata": {},
   "outputs": [
    {
     "name": "stdout",
     "output_type": "stream",
     "text": [
      "Epoch 1/5\n",
      "1875/1875 [==============================] - 19s 10ms/step - loss: 0.5488 - accuracy: 0.8049 - val_loss: 0.4312 - val_accuracy: 0.8443\n",
      "Epoch 2/5\n",
      "1875/1875 [==============================] - 19s 10ms/step - loss: 0.3991 - accuracy: 0.8509 - val_loss: 0.3806 - val_accuracy: 0.8585\n",
      "Epoch 3/5\n",
      "1875/1875 [==============================] - 19s 10ms/step - loss: 0.3571 - accuracy: 0.8656 - val_loss: 0.3723 - val_accuracy: 0.8625\n",
      "Epoch 4/5\n",
      "1875/1875 [==============================] - 19s 10ms/step - loss: 0.3397 - accuracy: 0.8723 - val_loss: 0.3631 - val_accuracy: 0.8690\n",
      "Epoch 5/5\n",
      "1875/1875 [==============================] - 18s 10ms/step - loss: 0.3197 - accuracy: 0.8800 - val_loss: 0.3621 - val_accuracy: 0.8656\n"
     ]
    }
   ],
   "source": [
    "#Compile and Fit\n",
    "model.compile(optimizer='adam',\n",
    "              loss='sparse_categorical_crossentropy',\n",
    "             metrics=['accuracy'])\n",
    "r=model.fit(x_train,y_train,validation_data=(x_test,y_test),epochs=5)\n",
    "#more epochs performed, say about 15, results in better validation accuracy > 90%"
   ]
  },
  {
   "cell_type": "code",
   "execution_count": 45,
   "id": "headed-ceramic",
   "metadata": {},
   "outputs": [
    {
     "data": {
      "text/plain": [
       "{'loss': [0.548783004283905,\n",
       "  0.399071604013443,\n",
       "  0.3571358621120453,\n",
       "  0.3397330045700073,\n",
       "  0.31967785954475403],\n",
       " 'accuracy': [0.8048999905586243,\n",
       "  0.8508666753768921,\n",
       "  0.8656166791915894,\n",
       "  0.8723000288009644,\n",
       "  0.8800166845321655],\n",
       " 'val_loss': [0.43115121126174927,\n",
       "  0.3806397318840027,\n",
       "  0.37231752276420593,\n",
       "  0.3630959689617157,\n",
       "  0.36211684346199036],\n",
       " 'val_accuracy': [0.8442999720573425,\n",
       "  0.8585000038146973,\n",
       "  0.862500011920929,\n",
       "  0.8690000176429749,\n",
       "  0.8655999898910522]}"
      ]
     },
     "execution_count": 45,
     "metadata": {},
     "output_type": "execute_result"
    }
   ],
   "source": [
    "r.history"
   ]
  },
  {
   "cell_type": "code",
   "execution_count": 51,
   "id": "perfect-holder",
   "metadata": {},
   "outputs": [
    {
     "data": {
      "text/plain": [
       "<matplotlib.legend.Legend at 0x2309eb8ff70>"
      ]
     },
     "execution_count": 51,
     "metadata": {},
     "output_type": "execute_result"
    },
    {
     "data": {
      "image/png": "[encoded data removed]",
      "text/plain": [
       "<Figure size 432x288 with 1 Axes>"
      ]
     },
     "metadata": {
      "needs_background": "light"
     },
     "output_type": "display_data"
    }
   ],
   "source": [
    "plt.plot(r.history['loss'],label='Loss')\n",
    "plt.plot(r.history['val_loss'],label='Validation Loss')\n",
    "plt.legend()"
   ]
  },
  {
   "cell_type": "code",
   "execution_count": 50,
   "id": "confident-macro",
   "metadata": {},
   "outputs": [
    {
     "data": {
      "text/plain": [
       "<matplotlib.legend.Legend at 0x2309eb284c0>"
      ]
     },
     "execution_count": 50,
     "metadata": {},
     "output_type": "execute_result"
    },
    {
     "data": {
      "image/png": "[encoded data removed]",
      "text/plain": [
       "<Figure size 432x288 with 1 Axes>"
      ]
     },
     "metadata": {
      "needs_background": "light"
     },
     "output_type": "display_data"
    }
   ],
   "source": [
    "plt.plot(r.history['accuracy'],label='Accuracy')\n",
    "plt.plot(r.history['val_accuracy'],label='Validation Accuracy')\n",
    "plt.legend()"
   ]
  },
  {
   "cell_type": "code",
   "execution_count": 58,
   "id": "about-association",
   "metadata": {},
   "outputs": [],
   "source": [
    "from sklearn.metrics import confusion_matrix\n",
    "p_test=model.predict(x_test).argmax(axis=1)\n",
    "cm=confusion_matrix(y_test,p_test)"
   ]
  },
  {
   "cell_type": "code",
   "execution_count": 62,
   "id": "spiritual-event",
   "metadata": {},
   "outputs": [],
   "source": [
    "#Copied from https://scikit-learn.org/0.18/auto_examples/model_selection/plot_confusion_matrix.html\n",
    "import itertools\n",
    "def plot_confusion_matrix(cm, classes,\n",
    "                          normalize=False,\n",
    "                          title='Confusion matrix',\n",
    "                          cmap=plt.cm.Blues):\n",
    "    \"\"\"\n",
    "    This function prints and plots the confusion matrix.\n",
    "    Normalization can be applied by setting `normalize=True`.\n",
    "    \"\"\"\n",
    "    plt.imshow(cm, interpolation='nearest', cmap=cmap)\n",
    "    plt.title(title)\n",
    "    plt.colorbar()\n",
    "    tick_marks = np.arange(len(classes))\n",
    "    plt.xticks(tick_marks, classes, rotation=45)\n",
    "    plt.yticks(tick_marks, classes)\n",
    "\n",
    "    if normalize:\n",
    "        cm = cm.astype('float') / cm.sum(axis=1)[:, np.newaxis]\n",
    "        print(\"Normalized confusion matrix\")\n",
    "    else:\n",
    "        print('Confusion matrix, without normalization')\n",
    "\n",
    "    print(cm)\n",
    "\n",
    "    thresh = cm.max() / 2.\n",
    "    for i, j in itertools.product(range(cm.shape[0]), range(cm.shape[1])):\n",
    "        plt.text(j, i, cm[i, j],\n",
    "                 horizontalalignment=\"center\",\n",
    "                 color=\"white\" if cm[i, j] > thresh else \"black\")\n",
    "\n",
    "    plt.tight_layout()\n",
    "    plt.ylabel('True label')\n",
    "    plt.xlabel('Predicted label')"
   ]
  },
  {
   "cell_type": "code",
   "execution_count": 63,
   "id": "following-initial",
   "metadata": {},
   "outputs": [
    {
     "name": "stdout",
     "output_type": "stream",
     "text": [
      "Confusion matrix, without normalization\n",
      "[[847   2  17  40   3   3  84   0   4   0]\n",
      " [  3 970   0  18   1   0   7   0   1   0]\n",
      " [ 21   0 789  15 112   0  61   0   2   0]\n",
      " [ 15   5  12 898  48   0  21   0   1   0]\n",
      " [  1   1  86  20 858   0  33   0   1   0]\n",
      " [  0   0   0   0   0 964   0  21   0  15]\n",
      " [192   0  94  40 191   0 470   0  13   0]\n",
      " [  0   0   0   0   0  10   0 947   0  43]\n",
      " [  5   0   2   3  11   7  10   3 958   1]\n",
      " [  0   0   0   0   0   8   1  36   0 955]]\n"
     ]
    },
    {
     "data": {
      "image/png": "[encoded data removed]",
      "text/plain": [
       "<Figure size 432x288 with 2 Axes>"
      ]
     },
     "metadata": {
      "needs_background": "light"
     },
     "output_type": "display_data"
    }
   ],
   "source": [
    "plot_confusion_matrix(cm,list(range(10)))"
   ]
  },
  {
   "cell_type": "code",
   "execution_count": null,
   "id": "surgical-triangle",
   "metadata": {},
   "outputs": [],
   "source": []
  }
 ],
 "metadata": {
  "kernelspec": {
   "display_name": "Python 3",
   "language": "python",
   "name": "python3"
  },
  "language_info": {
   "codemirror_mode": {
    "name": "ipython",
    "version": 3
   },
   "file_extension": ".py",
   "mimetype": "text/x-python",
   "name": "python",
   "nbconvert_exporter": "python",
   "pygments_lexer": "ipython3",
   "version": "3.8.8"
  }
 },
 "nbformat": 4,
 "nbformat_minor": 5
}
